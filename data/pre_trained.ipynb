{
 "cells": [
  {
   "cell_type": "code",
   "execution_count": 15,
   "metadata": {},
   "outputs": [],
   "source": [
    "import numpy as np\n",
    "from collections import defaultdict\n",
    "import pickle\n",
    "import json\n",
    "import os"
   ]
  },
  {
   "cell_type": "code",
   "execution_count": 16,
   "metadata": {},
   "outputs": [],
   "source": [
    "glove_path = \"glove.6B/glove.6B.200d.txt\"\n",
    "glove_dir  = \"glove.6B\""
   ]
  },
  {
   "cell_type": "code",
   "execution_count": 27,
   "metadata": {},
   "outputs": [],
   "source": [
    "\n",
    "\n",
    "words = []\n",
    "word2idx = defaultdict(lambda: len(word2idx))\n",
    "vectors =[]\n",
    "\n",
    "with open(glove_path, \"rb\") as infile:\n",
    "    for line in infile:\n",
    "        line = line.decode().split()\n",
    "        words.append(line[0])\n",
    "        word2idx[line[0]]\n",
    "        vect = np.array(line[1:]).astype(np.float)\n",
    "        vectors.append(vect)\n",
    "        \n",
    "with open(os.path.join(glove_dir,\"word2idx.json\"),\"w\") as infile:\n",
    "    json.dump(word2idx, infile, indent=4)\n",
    "\n",
    "with open(os.path.join(glove_dir,\"glove_200.pickle\"),\"wb\") as infile:\n",
    "    pickle.dump(vectors, infile)\n",
    "    \n",
    "with open(os.path.join(glove_dir,\"glove_words.pickle\"),\"wb\") as infile:\n",
    "    pickle.dump(words, infile)\n"
   ]
  },
  {
   "cell_type": "code",
   "execution_count": 28,
   "metadata": {},
   "outputs": [],
   "source": [
    "with open(os.path.join(glove_dir,\"word2idx.json\"),\"r\") as infile:\n",
    "       word2idx = json.load(infile)\n",
    "        \n",
    "with open(os.path.join(glove_dir,\"glove_200.pickle\"),\"rb\") as infile:\n",
    "    vectors = pickle.load(infile)\n",
    "\n",
    "with open(os.path.join(glove_dir,\"glove_words.pickle\"),\"rb\") as infile:\n",
    "    words = pickle.load(infile)\n",
    "    \n",
    "# Load your vocab as well\n",
    "with open(\"w2i_100_.json\",\"r\") as infile:\n",
    "       w2i = json.load(infile)\n"
   ]
  },
  {
   "cell_type": "code",
   "execution_count": 29,
   "metadata": {},
   "outputs": [],
   "source": [
    "glove = {w: vectors[word2idx[w]] for w in words}"
   ]
  },
  {
   "cell_type": "code",
   "execution_count": 36,
   "metadata": {},
   "outputs": [
    {
     "name": "stdout",
     "output_type": "stream",
     "text": [
      "Total words found:12554/19891\n"
     ]
    }
   ],
   "source": [
    "weights_matrix = np.zeros((len(w2i), 200))\n",
    "words_found = 0\n",
    "\n",
    "for word, indx in w2i.items():\n",
    "    try: \n",
    "        weights_matrix[indx] = glove[word]\n",
    "        words_found += 1\n",
    "    except KeyError as e:\n",
    "        \n",
    "        weights_matrix[indx] = np.random.normal(scale=0.6, size=(200, ))\n",
    "        \n",
    "print(\"Total words found:{}/{}\".format(words_found, len(w2i)))"
   ]
  },
  {
   "cell_type": "code",
   "execution_count": 38,
   "metadata": {},
   "outputs": [],
   "source": [
    "with open(\"pretrained_200d\", \"wb\") as infile:\n",
    "    pickle.dump(weights_matrix, infile)"
   ]
  },
  {
   "cell_type": "code",
   "execution_count": null,
   "metadata": {},
   "outputs": [],
   "source": []
  }
 ],
 "metadata": {
  "kernelspec": {
   "display_name": "Python 3",
   "language": "python",
   "name": "python3"
  },
  "language_info": {
   "codemirror_mode": {
    "name": "ipython",
    "version": 3
   },
   "file_extension": ".py",
   "mimetype": "text/x-python",
   "name": "python",
   "nbconvert_exporter": "python",
   "pygments_lexer": "ipython3",
   "version": "3.6.6"
  }
 },
 "nbformat": 4,
 "nbformat_minor": 2
}
